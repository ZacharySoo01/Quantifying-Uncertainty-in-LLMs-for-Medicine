{
  "nbformat": 4,
  "nbformat_minor": 0,
  "metadata": {
    "colab": {
      "provenance": [],
      "authorship_tag": "ABX9TyPbHPNp54j2VDkwwUX8l4EB",
      "include_colab_link": true
    },
    "kernelspec": {
      "name": "python3",
      "display_name": "Python 3"
    },
    "language_info": {
      "name": "python"
    }
  },
  "cells": [
    {
      "cell_type": "markdown",
      "metadata": {
        "id": "view-in-github",
        "colab_type": "text"
      },
      "source": [
        "<a href=\"https://colab.research.google.com/github/ZacharySoo01/Quantifying-Uncertainty-in-LLMs-for-Medicine/blob/main/SAR/results/SAR_Results.ipynb\" target=\"_parent\"><img src=\"https://colab.research.google.com/assets/colab-badge.svg\" alt=\"Open In Colab\"/></a>"
      ]
    },
    {
      "cell_type": "markdown",
      "source": [
        "# Visualizing Results\n",
        "* Before running, rename each uncertainty_estimation_results.txt file to format uncertainty_estimation_results_<opt, gpt-neo, gemma, llama3.2, or phi2>.txt (generated from each experiment)\n",
        "* If running from Google Collab, Drag and Drop all uncertainty_estimation_results.txt files in the Files section and then run notebook\n",
        "* If running from jupyter notebook, make sure all uncertainty_estimation_results.txt files are in the same directory as this notebook"
      ],
      "metadata": {
        "id": "IkK3-w36rIEw"
      }
    },
    {
      "cell_type": "code",
      "source": [
        "import pandas as pd\n",
        "import altair as alt"
      ],
      "metadata": {
        "id": "Nh6aZt1drNBE"
      },
      "execution_count": 1,
      "outputs": []
    },
    {
      "cell_type": "code",
      "execution_count": 2,
      "metadata": {
        "id": "JPmAp8CArBqX"
      },
      "outputs": [],
      "source": [
        "def txt_to_csv(model):\n",
        "    r = open(f\"uncertainty_estimation_results_{model}.txt\", \"r\")\n",
        "    w = open(f\"uncertainty_estimation_results_{model}.csv\", \"w+\")\n",
        "    w.write(\"accuracy,method,type,threshold,AUROC\\n\")\n",
        "    for line in r:\n",
        "      line = line.split()\n",
        "      line = \",\".join(line[1::2])\n",
        "      w.write(line+\"\\n\")\n",
        "\n",
        "    r.close()\n",
        "    w.close()"
      ]
    },
    {
      "cell_type": "markdown",
      "source": [
        "#### OPT"
      ],
      "metadata": {
        "id": "gxPp397ZsBql"
      }
    },
    {
      "cell_type": "code",
      "source": [
        "txt_to_csv(\"opt\")\n",
        "opt_df = pd.read_csv(\"uncertainty_estimation_results_opt.csv\")\n",
        "opt_df[\"Method\"] = [\"SAR\" if \"sar\" in method else \"Other\" for method in opt_df[\"method\"]]\n",
        "opt_df.head()\n",
        "\n",
        "alt.Chart(opt_df, title=\"OPT-2.7b results on PubMedQA\").mark_bar().encode(\n",
        "    alt.Column(\"type\"),\n",
        "    alt.Y(\"method\", sort=None),\n",
        "    alt.X(\"AUROC\"),\n",
        "    color=alt.Color(\"Method\", scale=alt.Scale(domain=(\"SAR\", \"Other\"), range=[\"orange\", \"lightblue\"]))\n",
        ")"
      ],
      "metadata": {
        "colab": {
          "base_uri": "https://localhost:8080/",
          "height": 377
        },
        "id": "Wh9fuGI9rLMk",
        "outputId": "7c638ceb-0064-450c-da5d-073e20803d2a"
      },
      "execution_count": 3,
      "outputs": [
        {
          "output_type": "stream",
          "name": "stderr",
          "text": [
            "/usr/local/lib/python3.10/dist-packages/altair/utils/core.py:384: FutureWarning: the convert_dtype parameter is deprecated and will be removed in a future version.  Do ``ser.astype(object).apply()`` instead if you want ``convert_dtype=False``.\n",
            "  col = df[col_name].apply(to_list_if_array, convert_dtype=False)\n",
            "/usr/local/lib/python3.10/dist-packages/altair/utils/core.py:384: FutureWarning: the convert_dtype parameter is deprecated and will be removed in a future version.  Do ``ser.astype(object).apply()`` instead if you want ``convert_dtype=False``.\n",
            "  col = df[col_name].apply(to_list_if_array, convert_dtype=False)\n",
            "/usr/local/lib/python3.10/dist-packages/altair/utils/core.py:384: FutureWarning: the convert_dtype parameter is deprecated and will be removed in a future version.  Do ``ser.astype(object).apply()`` instead if you want ``convert_dtype=False``.\n",
            "  col = df[col_name].apply(to_list_if_array, convert_dtype=False)\n"
          ]
        },
        {
          "output_type": "execute_result",
          "data": {
            "text/html": [
              "\n",
              "<div id=\"altair-viz-f7da397a840d4af88a77d21db33db323\"></div>\n",
              "<script type=\"text/javascript\">\n",
              "  var VEGA_DEBUG = (typeof VEGA_DEBUG == \"undefined\") ? {} : VEGA_DEBUG;\n",
              "  (function(spec, embedOpt){\n",
              "    let outputDiv = document.currentScript.previousElementSibling;\n",
              "    if (outputDiv.id !== \"altair-viz-f7da397a840d4af88a77d21db33db323\") {\n",
              "      outputDiv = document.getElementById(\"altair-viz-f7da397a840d4af88a77d21db33db323\");\n",
              "    }\n",
              "    const paths = {\n",
              "      \"vega\": \"https://cdn.jsdelivr.net/npm//vega@5?noext\",\n",
              "      \"vega-lib\": \"https://cdn.jsdelivr.net/npm//vega-lib?noext\",\n",
              "      \"vega-lite\": \"https://cdn.jsdelivr.net/npm//vega-lite@4.17.0?noext\",\n",
              "      \"vega-embed\": \"https://cdn.jsdelivr.net/npm//vega-embed@6?noext\",\n",
              "    };\n",
              "\n",
              "    function maybeLoadScript(lib, version) {\n",
              "      var key = `${lib.replace(\"-\", \"\")}_version`;\n",
              "      return (VEGA_DEBUG[key] == version) ?\n",
              "        Promise.resolve(paths[lib]) :\n",
              "        new Promise(function(resolve, reject) {\n",
              "          var s = document.createElement('script');\n",
              "          document.getElementsByTagName(\"head\")[0].appendChild(s);\n",
              "          s.async = true;\n",
              "          s.onload = () => {\n",
              "            VEGA_DEBUG[key] = version;\n",
              "            return resolve(paths[lib]);\n",
              "          };\n",
              "          s.onerror = () => reject(`Error loading script: ${paths[lib]}`);\n",
              "          s.src = paths[lib];\n",
              "        });\n",
              "    }\n",
              "\n",
              "    function showError(err) {\n",
              "      outputDiv.innerHTML = `<div class=\"error\" style=\"color:red;\">${err}</div>`;\n",
              "      throw err;\n",
              "    }\n",
              "\n",
              "    function displayChart(vegaEmbed) {\n",
              "      vegaEmbed(outputDiv, spec, embedOpt)\n",
              "        .catch(err => showError(`Javascript Error: ${err.message}<br>This usually means there's a typo in your chart specification. See the javascript console for the full traceback.`));\n",
              "    }\n",
              "\n",
              "    if(typeof define === \"function\" && define.amd) {\n",
              "      requirejs.config({paths});\n",
              "      require([\"vega-embed\"], displayChart, err => showError(`Error loading script: ${err.message}`));\n",
              "    } else {\n",
              "      maybeLoadScript(\"vega\", \"5\")\n",
              "        .then(() => maybeLoadScript(\"vega-lite\", \"4.17.0\"))\n",
              "        .then(() => maybeLoadScript(\"vega-embed\", \"6\"))\n",
              "        .catch(showError)\n",
              "        .then(() => displayChart(vegaEmbed));\n",
              "    }\n",
              "  })({\"config\": {\"view\": {\"continuousWidth\": 400, \"continuousHeight\": 300}}, \"data\": {\"name\": \"data-b5821549f187909599a719aa1eebc5b4\"}, \"mark\": \"bar\", \"encoding\": {\"color\": {\"field\": \"Method\", \"scale\": {\"domain\": [\"SAR\", \"Other\"], \"range\": [\"orange\", \"lightblue\"]}, \"type\": \"nominal\"}, \"column\": {\"field\": \"type\", \"type\": \"nominal\"}, \"x\": {\"field\": \"AUROC\", \"type\": \"quantitative\"}, \"y\": {\"field\": \"method\", \"sort\": null, \"type\": \"nominal\"}}, \"title\": \"OPT-2.7b results on PubMedQA\", \"$schema\": \"https://vega.github.io/schema/vega-lite/v4.17.0.json\", \"datasets\": {\"data-b5821549f187909599a719aa1eebc5b4\": [{\"accuracy\": 0.48, \"method\": \"sar\", \"type\": \"rougeL_to_target\", \"threshold\": 0.5, \"AUROC\": 0.4551, \"Method\": \"SAR\"}, {\"accuracy\": 0.48, \"method\": \"sar\", \"type\": \"sentsim\", \"threshold\": 0.5, \"AUROC\": 0.4551, \"Method\": \"SAR\"}, {\"accuracy\": 0.48, \"method\": \"sentence-sar\", \"type\": \"rougeL_to_target\", \"threshold\": 0.5, \"AUROC\": 0.516, \"Method\": \"SAR\"}, {\"accuracy\": 0.48, \"method\": \"sentence-sar\", \"type\": \"sentsim\", \"threshold\": 0.5, \"AUROC\": 0.516, \"Method\": \"SAR\"}, {\"accuracy\": 0.48, \"method\": \"token-sar\", \"type\": \"rougeL_to_target\", \"threshold\": 0.5, \"AUROC\": 0.4952, \"Method\": \"SAR\"}, {\"accuracy\": 0.48, \"method\": \"token-sar\", \"type\": \"sentsim\", \"threshold\": 0.5, \"AUROC\": 0.4952, \"Method\": \"SAR\"}, {\"accuracy\": 0.48, \"method\": \"len-normed-predictive-entropy\", \"type\": \"rougeL_to_target\", \"threshold\": 0.5, \"AUROC\": 0.4079, \"Method\": \"Other\"}, {\"accuracy\": 0.48, \"method\": \"len-normed-predictive-entropy\", \"type\": \"sentsim\", \"threshold\": 0.5, \"AUROC\": 0.4079, \"Method\": \"Other\"}, {\"accuracy\": 0.48, \"method\": \"predictive-entropy\", \"type\": \"rougeL_to_target\", \"threshold\": 0.5, \"AUROC\": 0.4079, \"Method\": \"Other\"}, {\"accuracy\": 0.48, \"method\": \"predictive-entropy\", \"type\": \"sentsim\", \"threshold\": 0.5, \"AUROC\": 0.4079, \"Method\": \"Other\"}, {\"accuracy\": 0.48, \"method\": \"lexical-similarity\", \"type\": \"rougeL_to_target\", \"threshold\": 0.5, \"AUROC\": 0.4303, \"Method\": \"Other\"}, {\"accuracy\": 0.48, \"method\": \"lexical-similarity\", \"type\": \"sentsim\", \"threshold\": 0.5, \"AUROC\": 0.4303, \"Method\": \"Other\"}]}}, {\"mode\": \"vega-lite\"});\n",
              "</script>"
            ],
            "text/plain": [
              "alt.Chart(...)"
            ]
          },
          "metadata": {},
          "execution_count": 3
        }
      ]
    },
    {
      "cell_type": "markdown",
      "source": [
        "#### GPT-NEO"
      ],
      "metadata": {
        "id": "ANI-yZNUsD0J"
      }
    },
    {
      "cell_type": "code",
      "source": [
        "txt_to_csv(\"gpt-neo\")\n",
        "gpt_df = pd.read_csv(\"uncertainty_estimation_results_gpt-neo.csv\")\n",
        "gpt_df[\"Method\"] = [\"SAR\" if \"sar\" in method else \"Other\" for method in gpt_df[\"method\"]]\n",
        "\n",
        "alt.Chart(gpt_df, title=\"GPT-neo-2.7b results on PubMedQA\").mark_bar().encode(\n",
        "    alt.Column(\"type\"),\n",
        "    alt.Y(\"method\", sort=None),\n",
        "    alt.X(\"AUROC\"),\n",
        "    color=alt.Color(\"Method\", scale=alt.Scale(domain=(\"SAR\", \"Other\"), range=[\"orange\", \"lightblue\"]))\n",
        ")"
      ],
      "metadata": {
        "colab": {
          "base_uri": "https://localhost:8080/",
          "height": 377
        },
        "id": "PdeMcDPwrTB3",
        "outputId": "6772194f-ce18-46b5-ee68-42aef50fe354"
      },
      "execution_count": 4,
      "outputs": [
        {
          "output_type": "stream",
          "name": "stderr",
          "text": [
            "/usr/local/lib/python3.10/dist-packages/altair/utils/core.py:384: FutureWarning: the convert_dtype parameter is deprecated and will be removed in a future version.  Do ``ser.astype(object).apply()`` instead if you want ``convert_dtype=False``.\n",
            "  col = df[col_name].apply(to_list_if_array, convert_dtype=False)\n",
            "/usr/local/lib/python3.10/dist-packages/altair/utils/core.py:384: FutureWarning: the convert_dtype parameter is deprecated and will be removed in a future version.  Do ``ser.astype(object).apply()`` instead if you want ``convert_dtype=False``.\n",
            "  col = df[col_name].apply(to_list_if_array, convert_dtype=False)\n",
            "/usr/local/lib/python3.10/dist-packages/altair/utils/core.py:384: FutureWarning: the convert_dtype parameter is deprecated and will be removed in a future version.  Do ``ser.astype(object).apply()`` instead if you want ``convert_dtype=False``.\n",
            "  col = df[col_name].apply(to_list_if_array, convert_dtype=False)\n"
          ]
        },
        {
          "output_type": "execute_result",
          "data": {
            "text/html": [
              "\n",
              "<div id=\"altair-viz-61eab4ceaa6c4fe288830f12247b8a23\"></div>\n",
              "<script type=\"text/javascript\">\n",
              "  var VEGA_DEBUG = (typeof VEGA_DEBUG == \"undefined\") ? {} : VEGA_DEBUG;\n",
              "  (function(spec, embedOpt){\n",
              "    let outputDiv = document.currentScript.previousElementSibling;\n",
              "    if (outputDiv.id !== \"altair-viz-61eab4ceaa6c4fe288830f12247b8a23\") {\n",
              "      outputDiv = document.getElementById(\"altair-viz-61eab4ceaa6c4fe288830f12247b8a23\");\n",
              "    }\n",
              "    const paths = {\n",
              "      \"vega\": \"https://cdn.jsdelivr.net/npm//vega@5?noext\",\n",
              "      \"vega-lib\": \"https://cdn.jsdelivr.net/npm//vega-lib?noext\",\n",
              "      \"vega-lite\": \"https://cdn.jsdelivr.net/npm//vega-lite@4.17.0?noext\",\n",
              "      \"vega-embed\": \"https://cdn.jsdelivr.net/npm//vega-embed@6?noext\",\n",
              "    };\n",
              "\n",
              "    function maybeLoadScript(lib, version) {\n",
              "      var key = `${lib.replace(\"-\", \"\")}_version`;\n",
              "      return (VEGA_DEBUG[key] == version) ?\n",
              "        Promise.resolve(paths[lib]) :\n",
              "        new Promise(function(resolve, reject) {\n",
              "          var s = document.createElement('script');\n",
              "          document.getElementsByTagName(\"head\")[0].appendChild(s);\n",
              "          s.async = true;\n",
              "          s.onload = () => {\n",
              "            VEGA_DEBUG[key] = version;\n",
              "            return resolve(paths[lib]);\n",
              "          };\n",
              "          s.onerror = () => reject(`Error loading script: ${paths[lib]}`);\n",
              "          s.src = paths[lib];\n",
              "        });\n",
              "    }\n",
              "\n",
              "    function showError(err) {\n",
              "      outputDiv.innerHTML = `<div class=\"error\" style=\"color:red;\">${err}</div>`;\n",
              "      throw err;\n",
              "    }\n",
              "\n",
              "    function displayChart(vegaEmbed) {\n",
              "      vegaEmbed(outputDiv, spec, embedOpt)\n",
              "        .catch(err => showError(`Javascript Error: ${err.message}<br>This usually means there's a typo in your chart specification. See the javascript console for the full traceback.`));\n",
              "    }\n",
              "\n",
              "    if(typeof define === \"function\" && define.amd) {\n",
              "      requirejs.config({paths});\n",
              "      require([\"vega-embed\"], displayChart, err => showError(`Error loading script: ${err.message}`));\n",
              "    } else {\n",
              "      maybeLoadScript(\"vega\", \"5\")\n",
              "        .then(() => maybeLoadScript(\"vega-lite\", \"4.17.0\"))\n",
              "        .then(() => maybeLoadScript(\"vega-embed\", \"6\"))\n",
              "        .catch(showError)\n",
              "        .then(() => displayChart(vegaEmbed));\n",
              "    }\n",
              "  })({\"config\": {\"view\": {\"continuousWidth\": 400, \"continuousHeight\": 300}}, \"data\": {\"name\": \"data-6d9ba74edb0021bfbfaee2de462a29e7\"}, \"mark\": \"bar\", \"encoding\": {\"color\": {\"field\": \"Method\", \"scale\": {\"domain\": [\"SAR\", \"Other\"], \"range\": [\"orange\", \"lightblue\"]}, \"type\": \"nominal\"}, \"column\": {\"field\": \"type\", \"type\": \"nominal\"}, \"x\": {\"field\": \"AUROC\", \"type\": \"quantitative\"}, \"y\": {\"field\": \"method\", \"sort\": null, \"type\": \"nominal\"}}, \"title\": \"GPT-neo-2.7b results on PubMedQA\", \"$schema\": \"https://vega.github.io/schema/vega-lite/v4.17.0.json\", \"datasets\": {\"data-6d9ba74edb0021bfbfaee2de462a29e7\": [{\"accuracy\": 0.04, \"method\": \"sar\", \"type\": \"rougeL_to_target\", \"threshold\": 0.5, \"AUROC\": 0.6875, \"Method\": \"SAR\"}, {\"accuracy\": 0.44, \"method\": \"sar\", \"type\": \"sentsim\", \"threshold\": 0.5, \"AUROC\": 0.4773, \"Method\": \"SAR\"}, {\"accuracy\": 0.04, \"method\": \"sentence-sar\", \"type\": \"rougeL_to_target\", \"threshold\": 0.5, \"AUROC\": 0.4271, \"Method\": \"SAR\"}, {\"accuracy\": 0.44, \"method\": \"sentence-sar\", \"type\": \"sentsim\", \"threshold\": 0.5, \"AUROC\": 0.5406, \"Method\": \"SAR\"}, {\"accuracy\": 0.04, \"method\": \"token-sar\", \"type\": \"rougeL_to_target\", \"threshold\": 0.5, \"AUROC\": 0.5, \"Method\": \"SAR\"}, {\"accuracy\": 0.44, \"method\": \"token-sar\", \"type\": \"sentsim\", \"threshold\": 0.5, \"AUROC\": 0.5, \"Method\": \"SAR\"}, {\"accuracy\": 0.04, \"method\": \"len-normed-predictive-entropy\", \"type\": \"rougeL_to_target\", \"threshold\": 0.5, \"AUROC\": 0.5, \"Method\": \"Other\"}, {\"accuracy\": 0.44, \"method\": \"len-normed-predictive-entropy\", \"type\": \"sentsim\", \"threshold\": 0.5, \"AUROC\": 0.5, \"Method\": \"Other\"}, {\"accuracy\": 0.04, \"method\": \"predictive-entropy\", \"type\": \"rougeL_to_target\", \"threshold\": 0.5, \"AUROC\": 0.5, \"Method\": \"Other\"}, {\"accuracy\": 0.44, \"method\": \"predictive-entropy\", \"type\": \"sentsim\", \"threshold\": 0.5, \"AUROC\": 0.5, \"Method\": \"Other\"}, {\"accuracy\": 0.04, \"method\": \"lexical-similarity\", \"type\": \"rougeL_to_target\", \"threshold\": 0.5, \"AUROC\": 0.2604, \"Method\": \"Other\"}, {\"accuracy\": 0.44, \"method\": \"lexical-similarity\", \"type\": \"sentsim\", \"threshold\": 0.5, \"AUROC\": 0.4545, \"Method\": \"Other\"}]}}, {\"mode\": \"vega-lite\"});\n",
              "</script>"
            ],
            "text/plain": [
              "alt.Chart(...)"
            ]
          },
          "metadata": {},
          "execution_count": 4
        }
      ]
    },
    {
      "cell_type": "markdown",
      "source": [
        "#### Gemma"
      ],
      "metadata": {
        "id": "WdFseXeSsGTU"
      }
    },
    {
      "cell_type": "code",
      "source": [
        "txt_to_csv(\"gemma\")\n",
        "gemma_df = pd.read_csv(\"uncertainty_estimation_results_gemma.csv\")\n",
        "gemma_df[\"Method\"] = [\"SAR\" if \"sar\" in method else \"Other\" for method in gemma_df[\"method\"]]\n",
        "\n",
        "alt.Chart(gemma_df, title=\"Gemma-2b results on PubMedQA\").mark_bar().encode(\n",
        "    alt.Column(\"type\"),\n",
        "    alt.Y(\"method\", sort=None),\n",
        "    alt.X(\"AUROC\"),\n",
        "    color=alt.Color(\"Method\", scale=alt.Scale(domain=(\"SAR\", \"Other\"), range=[\"orange\", \"lightblue\"]))\n",
        ")"
      ],
      "metadata": {
        "colab": {
          "base_uri": "https://localhost:8080/",
          "height": 377
        },
        "id": "4UCYtZ9rrVvj",
        "outputId": "b77c8de5-4a72-493f-d608-f6cf3cf55ddd"
      },
      "execution_count": 5,
      "outputs": [
        {
          "output_type": "stream",
          "name": "stderr",
          "text": [
            "/usr/local/lib/python3.10/dist-packages/altair/utils/core.py:384: FutureWarning: the convert_dtype parameter is deprecated and will be removed in a future version.  Do ``ser.astype(object).apply()`` instead if you want ``convert_dtype=False``.\n",
            "  col = df[col_name].apply(to_list_if_array, convert_dtype=False)\n",
            "/usr/local/lib/python3.10/dist-packages/altair/utils/core.py:384: FutureWarning: the convert_dtype parameter is deprecated and will be removed in a future version.  Do ``ser.astype(object).apply()`` instead if you want ``convert_dtype=False``.\n",
            "  col = df[col_name].apply(to_list_if_array, convert_dtype=False)\n",
            "/usr/local/lib/python3.10/dist-packages/altair/utils/core.py:384: FutureWarning: the convert_dtype parameter is deprecated and will be removed in a future version.  Do ``ser.astype(object).apply()`` instead if you want ``convert_dtype=False``.\n",
            "  col = df[col_name].apply(to_list_if_array, convert_dtype=False)\n"
          ]
        },
        {
          "output_type": "execute_result",
          "data": {
            "text/html": [
              "\n",
              "<div id=\"altair-viz-c28258fb52f7461a9531498b9eb08987\"></div>\n",
              "<script type=\"text/javascript\">\n",
              "  var VEGA_DEBUG = (typeof VEGA_DEBUG == \"undefined\") ? {} : VEGA_DEBUG;\n",
              "  (function(spec, embedOpt){\n",
              "    let outputDiv = document.currentScript.previousElementSibling;\n",
              "    if (outputDiv.id !== \"altair-viz-c28258fb52f7461a9531498b9eb08987\") {\n",
              "      outputDiv = document.getElementById(\"altair-viz-c28258fb52f7461a9531498b9eb08987\");\n",
              "    }\n",
              "    const paths = {\n",
              "      \"vega\": \"https://cdn.jsdelivr.net/npm//vega@5?noext\",\n",
              "      \"vega-lib\": \"https://cdn.jsdelivr.net/npm//vega-lib?noext\",\n",
              "      \"vega-lite\": \"https://cdn.jsdelivr.net/npm//vega-lite@4.17.0?noext\",\n",
              "      \"vega-embed\": \"https://cdn.jsdelivr.net/npm//vega-embed@6?noext\",\n",
              "    };\n",
              "\n",
              "    function maybeLoadScript(lib, version) {\n",
              "      var key = `${lib.replace(\"-\", \"\")}_version`;\n",
              "      return (VEGA_DEBUG[key] == version) ?\n",
              "        Promise.resolve(paths[lib]) :\n",
              "        new Promise(function(resolve, reject) {\n",
              "          var s = document.createElement('script');\n",
              "          document.getElementsByTagName(\"head\")[0].appendChild(s);\n",
              "          s.async = true;\n",
              "          s.onload = () => {\n",
              "            VEGA_DEBUG[key] = version;\n",
              "            return resolve(paths[lib]);\n",
              "          };\n",
              "          s.onerror = () => reject(`Error loading script: ${paths[lib]}`);\n",
              "          s.src = paths[lib];\n",
              "        });\n",
              "    }\n",
              "\n",
              "    function showError(err) {\n",
              "      outputDiv.innerHTML = `<div class=\"error\" style=\"color:red;\">${err}</div>`;\n",
              "      throw err;\n",
              "    }\n",
              "\n",
              "    function displayChart(vegaEmbed) {\n",
              "      vegaEmbed(outputDiv, spec, embedOpt)\n",
              "        .catch(err => showError(`Javascript Error: ${err.message}<br>This usually means there's a typo in your chart specification. See the javascript console for the full traceback.`));\n",
              "    }\n",
              "\n",
              "    if(typeof define === \"function\" && define.amd) {\n",
              "      requirejs.config({paths});\n",
              "      require([\"vega-embed\"], displayChart, err => showError(`Error loading script: ${err.message}`));\n",
              "    } else {\n",
              "      maybeLoadScript(\"vega\", \"5\")\n",
              "        .then(() => maybeLoadScript(\"vega-lite\", \"4.17.0\"))\n",
              "        .then(() => maybeLoadScript(\"vega-embed\", \"6\"))\n",
              "        .catch(showError)\n",
              "        .then(() => displayChart(vegaEmbed));\n",
              "    }\n",
              "  })({\"config\": {\"view\": {\"continuousWidth\": 400, \"continuousHeight\": 300}}, \"data\": {\"name\": \"data-950f7ee42bdfb2d42471d9b00dcefeb8\"}, \"mark\": \"bar\", \"encoding\": {\"color\": {\"field\": \"Method\", \"scale\": {\"domain\": [\"SAR\", \"Other\"], \"range\": [\"orange\", \"lightblue\"]}, \"type\": \"nominal\"}, \"column\": {\"field\": \"type\", \"type\": \"nominal\"}, \"x\": {\"field\": \"AUROC\", \"type\": \"quantitative\"}, \"y\": {\"field\": \"method\", \"sort\": null, \"type\": \"nominal\"}}, \"title\": \"Gemma-2b results on PubMedQA\", \"$schema\": \"https://vega.github.io/schema/vega-lite/v4.17.0.json\", \"datasets\": {\"data-950f7ee42bdfb2d42471d9b00dcefeb8\": [{\"accuracy\": 0.54, \"method\": \"sar\", \"type\": \"rougeL_to_target\", \"threshold\": 0.5, \"AUROC\": 0.4799, \"Method\": \"SAR\"}, {\"accuracy\": 0.54, \"method\": \"sar\", \"type\": \"sentsim\", \"threshold\": 0.5, \"AUROC\": 0.4799, \"Method\": \"SAR\"}, {\"accuracy\": 0.54, \"method\": \"sentence-sar\", \"type\": \"rougeL_to_target\", \"threshold\": 0.5, \"AUROC\": 0.5878, \"Method\": \"SAR\"}, {\"accuracy\": 0.54, \"method\": \"sentence-sar\", \"type\": \"sentsim\", \"threshold\": 0.5, \"AUROC\": 0.5878, \"Method\": \"SAR\"}, {\"accuracy\": 0.54, \"method\": \"token-sar\", \"type\": \"rougeL_to_target\", \"threshold\": 0.5, \"AUROC\": 0.5, \"Method\": \"SAR\"}, {\"accuracy\": 0.54, \"method\": \"token-sar\", \"type\": \"sentsim\", \"threshold\": 0.5, \"AUROC\": 0.5, \"Method\": \"SAR\"}, {\"accuracy\": 0.54, \"method\": \"len-normed-predictive-entropy\", \"type\": \"rougeL_to_target\", \"threshold\": 0.5, \"AUROC\": 0.5668, \"Method\": \"Other\"}, {\"accuracy\": 0.54, \"method\": \"len-normed-predictive-entropy\", \"type\": \"sentsim\", \"threshold\": 0.5, \"AUROC\": 0.5668, \"Method\": \"Other\"}, {\"accuracy\": 0.54, \"method\": \"predictive-entropy\", \"type\": \"rougeL_to_target\", \"threshold\": 0.5, \"AUROC\": 0.5668, \"Method\": \"Other\"}, {\"accuracy\": 0.54, \"method\": \"predictive-entropy\", \"type\": \"sentsim\", \"threshold\": 0.5, \"AUROC\": 0.5668, \"Method\": \"Other\"}, {\"accuracy\": 0.54, \"method\": \"lexical-similarity\", \"type\": \"rougeL_to_target\", \"threshold\": 0.5, \"AUROC\": 0.434, \"Method\": \"Other\"}, {\"accuracy\": 0.54, \"method\": \"lexical-similarity\", \"type\": \"sentsim\", \"threshold\": 0.5, \"AUROC\": 0.434, \"Method\": \"Other\"}]}}, {\"mode\": \"vega-lite\"});\n",
              "</script>"
            ],
            "text/plain": [
              "alt.Chart(...)"
            ]
          },
          "metadata": {},
          "execution_count": 5
        }
      ]
    },
    {
      "cell_type": "markdown",
      "source": [
        "#### Llama 3.2"
      ],
      "metadata": {
        "id": "ixdiYXYrsIEr"
      }
    },
    {
      "cell_type": "code",
      "source": [
        "txt_to_csv(\"llama3.2\")\n",
        "llama3_df = pd.read_csv(\"uncertainty_estimation_results_llama3.2.csv\")\n",
        "llama3_df[\"Method\"] = [\"SAR\" if \"sar\" in method else \"Other\" for method in llama3_df[\"method\"]]\n",
        "\n",
        "alt.Chart(llama3_df, title=\"Llama3.2-1b results on PubMedQA\").mark_bar().encode(\n",
        "    alt.Column(\"type\"),\n",
        "    alt.Y(\"method\", sort=None),\n",
        "    alt.X(\"AUROC\"),\n",
        "    color=alt.Color(\"Method\", scale=alt.Scale(domain=(\"SAR\", \"Other\"), range=[\"orange\", \"lightblue\"]))\n",
        ")"
      ],
      "metadata": {
        "colab": {
          "base_uri": "https://localhost:8080/",
          "height": 377
        },
        "id": "fH4Dv1vIrWjd",
        "outputId": "78cee557-935c-4f93-f7ff-e9ecda25e5dc"
      },
      "execution_count": 6,
      "outputs": [
        {
          "output_type": "stream",
          "name": "stderr",
          "text": [
            "/usr/local/lib/python3.10/dist-packages/altair/utils/core.py:384: FutureWarning: the convert_dtype parameter is deprecated and will be removed in a future version.  Do ``ser.astype(object).apply()`` instead if you want ``convert_dtype=False``.\n",
            "  col = df[col_name].apply(to_list_if_array, convert_dtype=False)\n",
            "/usr/local/lib/python3.10/dist-packages/altair/utils/core.py:384: FutureWarning: the convert_dtype parameter is deprecated and will be removed in a future version.  Do ``ser.astype(object).apply()`` instead if you want ``convert_dtype=False``.\n",
            "  col = df[col_name].apply(to_list_if_array, convert_dtype=False)\n",
            "/usr/local/lib/python3.10/dist-packages/altair/utils/core.py:384: FutureWarning: the convert_dtype parameter is deprecated and will be removed in a future version.  Do ``ser.astype(object).apply()`` instead if you want ``convert_dtype=False``.\n",
            "  col = df[col_name].apply(to_list_if_array, convert_dtype=False)\n"
          ]
        },
        {
          "output_type": "execute_result",
          "data": {
            "text/html": [
              "\n",
              "<div id=\"altair-viz-c1049e6c5012477a9deb98a3fa2235cf\"></div>\n",
              "<script type=\"text/javascript\">\n",
              "  var VEGA_DEBUG = (typeof VEGA_DEBUG == \"undefined\") ? {} : VEGA_DEBUG;\n",
              "  (function(spec, embedOpt){\n",
              "    let outputDiv = document.currentScript.previousElementSibling;\n",
              "    if (outputDiv.id !== \"altair-viz-c1049e6c5012477a9deb98a3fa2235cf\") {\n",
              "      outputDiv = document.getElementById(\"altair-viz-c1049e6c5012477a9deb98a3fa2235cf\");\n",
              "    }\n",
              "    const paths = {\n",
              "      \"vega\": \"https://cdn.jsdelivr.net/npm//vega@5?noext\",\n",
              "      \"vega-lib\": \"https://cdn.jsdelivr.net/npm//vega-lib?noext\",\n",
              "      \"vega-lite\": \"https://cdn.jsdelivr.net/npm//vega-lite@4.17.0?noext\",\n",
              "      \"vega-embed\": \"https://cdn.jsdelivr.net/npm//vega-embed@6?noext\",\n",
              "    };\n",
              "\n",
              "    function maybeLoadScript(lib, version) {\n",
              "      var key = `${lib.replace(\"-\", \"\")}_version`;\n",
              "      return (VEGA_DEBUG[key] == version) ?\n",
              "        Promise.resolve(paths[lib]) :\n",
              "        new Promise(function(resolve, reject) {\n",
              "          var s = document.createElement('script');\n",
              "          document.getElementsByTagName(\"head\")[0].appendChild(s);\n",
              "          s.async = true;\n",
              "          s.onload = () => {\n",
              "            VEGA_DEBUG[key] = version;\n",
              "            return resolve(paths[lib]);\n",
              "          };\n",
              "          s.onerror = () => reject(`Error loading script: ${paths[lib]}`);\n",
              "          s.src = paths[lib];\n",
              "        });\n",
              "    }\n",
              "\n",
              "    function showError(err) {\n",
              "      outputDiv.innerHTML = `<div class=\"error\" style=\"color:red;\">${err}</div>`;\n",
              "      throw err;\n",
              "    }\n",
              "\n",
              "    function displayChart(vegaEmbed) {\n",
              "      vegaEmbed(outputDiv, spec, embedOpt)\n",
              "        .catch(err => showError(`Javascript Error: ${err.message}<br>This usually means there's a typo in your chart specification. See the javascript console for the full traceback.`));\n",
              "    }\n",
              "\n",
              "    if(typeof define === \"function\" && define.amd) {\n",
              "      requirejs.config({paths});\n",
              "      require([\"vega-embed\"], displayChart, err => showError(`Error loading script: ${err.message}`));\n",
              "    } else {\n",
              "      maybeLoadScript(\"vega\", \"5\")\n",
              "        .then(() => maybeLoadScript(\"vega-lite\", \"4.17.0\"))\n",
              "        .then(() => maybeLoadScript(\"vega-embed\", \"6\"))\n",
              "        .catch(showError)\n",
              "        .then(() => displayChart(vegaEmbed));\n",
              "    }\n",
              "  })({\"config\": {\"view\": {\"continuousWidth\": 400, \"continuousHeight\": 300}}, \"data\": {\"name\": \"data-262c6a4d546cceb30d1d5b5304a0be47\"}, \"mark\": \"bar\", \"encoding\": {\"color\": {\"field\": \"Method\", \"scale\": {\"domain\": [\"SAR\", \"Other\"], \"range\": [\"orange\", \"lightblue\"]}, \"type\": \"nominal\"}, \"column\": {\"field\": \"type\", \"type\": \"nominal\"}, \"x\": {\"field\": \"AUROC\", \"type\": \"quantitative\"}, \"y\": {\"field\": \"method\", \"sort\": null, \"type\": \"nominal\"}}, \"title\": \"Llama3.2-1b results on PubMedQA\", \"$schema\": \"https://vega.github.io/schema/vega-lite/v4.17.0.json\", \"datasets\": {\"data-262c6a4d546cceb30d1d5b5304a0be47\": [{\"accuracy\": 0.68, \"method\": \"sar\", \"type\": \"rougeL_to_target\", \"threshold\": 0.5, \"AUROC\": 0.4559, \"Method\": \"SAR\"}, {\"accuracy\": 0.7, \"method\": \"sar\", \"type\": \"sentsim\", \"threshold\": 0.5, \"AUROC\": 0.4229, \"Method\": \"SAR\"}, {\"accuracy\": 0.68, \"method\": \"sentence-sar\", \"type\": \"rougeL_to_target\", \"threshold\": 0.5, \"AUROC\": 0.557, \"Method\": \"SAR\"}, {\"accuracy\": 0.7, \"method\": \"sentence-sar\", \"type\": \"sentsim\", \"threshold\": 0.5, \"AUROC\": 0.5943, \"Method\": \"SAR\"}, {\"accuracy\": 0.68, \"method\": \"token-sar\", \"type\": \"rougeL_to_target\", \"threshold\": 0.5, \"AUROC\": 0.4191, \"Method\": \"SAR\"}, {\"accuracy\": 0.7, \"method\": \"token-sar\", \"type\": \"sentsim\", \"threshold\": 0.5, \"AUROC\": 0.3886, \"Method\": \"SAR\"}, {\"accuracy\": 0.68, \"method\": \"len-normed-predictive-entropy\", \"type\": \"rougeL_to_target\", \"threshold\": 0.5, \"AUROC\": 0.454, \"Method\": \"Other\"}, {\"accuracy\": 0.7, \"method\": \"len-normed-predictive-entropy\", \"type\": \"sentsim\", \"threshold\": 0.5, \"AUROC\": 0.4305, \"Method\": \"Other\"}, {\"accuracy\": 0.68, \"method\": \"predictive-entropy\", \"type\": \"rougeL_to_target\", \"threshold\": 0.5, \"AUROC\": 0.5, \"Method\": \"Other\"}, {\"accuracy\": 0.7, \"method\": \"predictive-entropy\", \"type\": \"sentsim\", \"threshold\": 0.5, \"AUROC\": 0.5448, \"Method\": \"Other\"}, {\"accuracy\": 0.68, \"method\": \"lexical-similarity\", \"type\": \"rougeL_to_target\", \"threshold\": 0.5, \"AUROC\": 0.546, \"Method\": \"Other\"}, {\"accuracy\": 0.7, \"method\": \"lexical-similarity\", \"type\": \"sentsim\", \"threshold\": 0.5, \"AUROC\": 0.5295, \"Method\": \"Other\"}]}}, {\"mode\": \"vega-lite\"});\n",
              "</script>"
            ],
            "text/plain": [
              "alt.Chart(...)"
            ]
          },
          "metadata": {},
          "execution_count": 6
        }
      ]
    },
    {
      "cell_type": "markdown",
      "source": [
        "#### Phi-2"
      ],
      "metadata": {
        "id": "QGFEttQrsKce"
      }
    },
    {
      "cell_type": "code",
      "source": [
        "txt_to_csv(\"phi2\")\n",
        "phi2_df = pd.read_csv(\"uncertainty_estimation_results_phi2.csv\")\n",
        "phi2_df[\"Method\"] = [\"SAR\" if \"sar\" in method else \"Other\" for method in phi2_df[\"method\"]]\n",
        "\n",
        "alt.Chart(phi2_df, title=\"Phi-2-2.7b results on PubMedQA\").mark_bar().encode(\n",
        "    alt.Column(\"type\"),\n",
        "    alt.Y(\"method\", sort=None),\n",
        "    alt.X(\"AUROC\"),\n",
        "    color=alt.Color(\"Method\", scale=alt.Scale(domain=(\"SAR\", \"Other\"), range=[\"orange\", \"lightblue\"]))\n",
        ")"
      ],
      "metadata": {
        "colab": {
          "base_uri": "https://localhost:8080/",
          "height": 377
        },
        "id": "X0QRDnw2rXsX",
        "outputId": "8d0835f0-f441-4aca-bffc-d8d9741341f9"
      },
      "execution_count": 7,
      "outputs": [
        {
          "output_type": "stream",
          "name": "stderr",
          "text": [
            "/usr/local/lib/python3.10/dist-packages/altair/utils/core.py:384: FutureWarning: the convert_dtype parameter is deprecated and will be removed in a future version.  Do ``ser.astype(object).apply()`` instead if you want ``convert_dtype=False``.\n",
            "  col = df[col_name].apply(to_list_if_array, convert_dtype=False)\n",
            "/usr/local/lib/python3.10/dist-packages/altair/utils/core.py:384: FutureWarning: the convert_dtype parameter is deprecated and will be removed in a future version.  Do ``ser.astype(object).apply()`` instead if you want ``convert_dtype=False``.\n",
            "  col = df[col_name].apply(to_list_if_array, convert_dtype=False)\n",
            "/usr/local/lib/python3.10/dist-packages/altair/utils/core.py:384: FutureWarning: the convert_dtype parameter is deprecated and will be removed in a future version.  Do ``ser.astype(object).apply()`` instead if you want ``convert_dtype=False``.\n",
            "  col = df[col_name].apply(to_list_if_array, convert_dtype=False)\n"
          ]
        },
        {
          "output_type": "execute_result",
          "data": {
            "text/html": [
              "\n",
              "<div id=\"altair-viz-5e470f06165e4820a643023517999b40\"></div>\n",
              "<script type=\"text/javascript\">\n",
              "  var VEGA_DEBUG = (typeof VEGA_DEBUG == \"undefined\") ? {} : VEGA_DEBUG;\n",
              "  (function(spec, embedOpt){\n",
              "    let outputDiv = document.currentScript.previousElementSibling;\n",
              "    if (outputDiv.id !== \"altair-viz-5e470f06165e4820a643023517999b40\") {\n",
              "      outputDiv = document.getElementById(\"altair-viz-5e470f06165e4820a643023517999b40\");\n",
              "    }\n",
              "    const paths = {\n",
              "      \"vega\": \"https://cdn.jsdelivr.net/npm//vega@5?noext\",\n",
              "      \"vega-lib\": \"https://cdn.jsdelivr.net/npm//vega-lib?noext\",\n",
              "      \"vega-lite\": \"https://cdn.jsdelivr.net/npm//vega-lite@4.17.0?noext\",\n",
              "      \"vega-embed\": \"https://cdn.jsdelivr.net/npm//vega-embed@6?noext\",\n",
              "    };\n",
              "\n",
              "    function maybeLoadScript(lib, version) {\n",
              "      var key = `${lib.replace(\"-\", \"\")}_version`;\n",
              "      return (VEGA_DEBUG[key] == version) ?\n",
              "        Promise.resolve(paths[lib]) :\n",
              "        new Promise(function(resolve, reject) {\n",
              "          var s = document.createElement('script');\n",
              "          document.getElementsByTagName(\"head\")[0].appendChild(s);\n",
              "          s.async = true;\n",
              "          s.onload = () => {\n",
              "            VEGA_DEBUG[key] = version;\n",
              "            return resolve(paths[lib]);\n",
              "          };\n",
              "          s.onerror = () => reject(`Error loading script: ${paths[lib]}`);\n",
              "          s.src = paths[lib];\n",
              "        });\n",
              "    }\n",
              "\n",
              "    function showError(err) {\n",
              "      outputDiv.innerHTML = `<div class=\"error\" style=\"color:red;\">${err}</div>`;\n",
              "      throw err;\n",
              "    }\n",
              "\n",
              "    function displayChart(vegaEmbed) {\n",
              "      vegaEmbed(outputDiv, spec, embedOpt)\n",
              "        .catch(err => showError(`Javascript Error: ${err.message}<br>This usually means there's a typo in your chart specification. See the javascript console for the full traceback.`));\n",
              "    }\n",
              "\n",
              "    if(typeof define === \"function\" && define.amd) {\n",
              "      requirejs.config({paths});\n",
              "      require([\"vega-embed\"], displayChart, err => showError(`Error loading script: ${err.message}`));\n",
              "    } else {\n",
              "      maybeLoadScript(\"vega\", \"5\")\n",
              "        .then(() => maybeLoadScript(\"vega-lite\", \"4.17.0\"))\n",
              "        .then(() => maybeLoadScript(\"vega-embed\", \"6\"))\n",
              "        .catch(showError)\n",
              "        .then(() => displayChart(vegaEmbed));\n",
              "    }\n",
              "  })({\"config\": {\"view\": {\"continuousWidth\": 400, \"continuousHeight\": 300}}, \"data\": {\"name\": \"data-53061cadda72a941ae1419b88c6cc3e2\"}, \"mark\": \"bar\", \"encoding\": {\"color\": {\"field\": \"Method\", \"scale\": {\"domain\": [\"SAR\", \"Other\"], \"range\": [\"orange\", \"lightblue\"]}, \"type\": \"nominal\"}, \"column\": {\"field\": \"type\", \"type\": \"nominal\"}, \"x\": {\"field\": \"AUROC\", \"type\": \"quantitative\"}, \"y\": {\"field\": \"method\", \"sort\": null, \"type\": \"nominal\"}}, \"title\": \"Phi-2-2.7b results on PubMedQA\", \"$schema\": \"https://vega.github.io/schema/vega-lite/v4.17.0.json\", \"datasets\": {\"data-53061cadda72a941ae1419b88c6cc3e2\": [{\"accuracy\": 0.62, \"method\": \"sar\", \"type\": \"rougeL_to_target\", \"threshold\": 0.5, \"AUROC\": 0.5416, \"Method\": \"SAR\"}, {\"accuracy\": 0.62, \"method\": \"sar\", \"type\": \"sentsim\", \"threshold\": 0.5, \"AUROC\": 0.5416, \"Method\": \"SAR\"}, {\"accuracy\": 0.62, \"method\": \"sentence-sar\", \"type\": \"rougeL_to_target\", \"threshold\": 0.5, \"AUROC\": 0.5942, \"Method\": \"SAR\"}, {\"accuracy\": 0.62, \"method\": \"sentence-sar\", \"type\": \"sentsim\", \"threshold\": 0.5, \"AUROC\": 0.5942, \"Method\": \"SAR\"}, {\"accuracy\": 0.62, \"method\": \"token-sar\", \"type\": \"rougeL_to_target\", \"threshold\": 0.5, \"AUROC\": 0.5, \"Method\": \"SAR\"}, {\"accuracy\": 0.62, \"method\": \"token-sar\", \"type\": \"sentsim\", \"threshold\": 0.5, \"AUROC\": 0.5, \"Method\": \"SAR\"}, {\"accuracy\": 0.62, \"method\": \"len-normed-predictive-entropy\", \"type\": \"rougeL_to_target\", \"threshold\": 0.5, \"AUROC\": 0.5, \"Method\": \"Other\"}, {\"accuracy\": 0.62, \"method\": \"len-normed-predictive-entropy\", \"type\": \"sentsim\", \"threshold\": 0.5, \"AUROC\": 0.5, \"Method\": \"Other\"}, {\"accuracy\": 0.62, \"method\": \"predictive-entropy\", \"type\": \"rougeL_to_target\", \"threshold\": 0.5, \"AUROC\": 0.5, \"Method\": \"Other\"}, {\"accuracy\": 0.62, \"method\": \"predictive-entropy\", \"type\": \"sentsim\", \"threshold\": 0.5, \"AUROC\": 0.5, \"Method\": \"Other\"}, {\"accuracy\": 0.62, \"method\": \"lexical-similarity\", \"type\": \"rougeL_to_target\", \"threshold\": 0.5, \"AUROC\": 0.4728, \"Method\": \"Other\"}, {\"accuracy\": 0.62, \"method\": \"lexical-similarity\", \"type\": \"sentsim\", \"threshold\": 0.5, \"AUROC\": 0.4728, \"Method\": \"Other\"}]}}, {\"mode\": \"vega-lite\"});\n",
              "</script>"
            ],
            "text/plain": [
              "alt.Chart(...)"
            ]
          },
          "metadata": {},
          "execution_count": 7
        }
      ]
    }
  ]
}