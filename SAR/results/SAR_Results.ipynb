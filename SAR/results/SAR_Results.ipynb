{
  "nbformat": 4,
  "nbformat_minor": 0,
  "metadata": {
    "colab": {
      "provenance": [],
      "authorship_tag": "ABX9TyNFm4+golY9cfhXiVPo+dMo",
      "include_colab_link": true
    },
    "kernelspec": {
      "name": "python3",
      "display_name": "Python 3"
    },
    "language_info": {
      "name": "python"
    }
  },
  "cells": [
    {
      "cell_type": "markdown",
      "metadata": {
        "id": "view-in-github",
        "colab_type": "text"
      },
      "source": [
        "<a href=\"https://colab.research.google.com/github/ZacharySoo01/Uncertainty-Quantification-in-LLMs-for-Medical-Domain/blob/main/SAR/results/SAR_Results.ipynb\" target=\"_parent\"><img src=\"https://colab.research.google.com/assets/colab-badge.svg\" alt=\"Open In Colab\"/></a>"
      ]
    },
    {
      "cell_type": "markdown",
      "source": [
        "# Visualizing Results\n",
        "* Before running, rename each uncertainty_estimation_results.txt file to format uncertainty_estimation_results_<opt, gpt-neo, gemma, llama3.2, or phi2>.txt (generated from each experiment)\n",
        "* If running from Google Collab, Drag and Drop all uncertainty_estimation_results.txt files in the Files section and then run notebook\n",
        "* If running from jupyter notebook, make sure all uncertainty_estimation_results.txt files are in the same directory as this notebook"
      ],
      "metadata": {
        "id": "IkK3-w36rIEw"
      }
    },
    {
      "cell_type": "code",
      "source": [
        "import pandas as pd\n",
        "import altair as alt"
      ],
      "metadata": {
        "id": "Nh6aZt1drNBE"
      },
      "execution_count": 1,
      "outputs": []
    },
    {
      "cell_type": "code",
      "execution_count": 2,
      "metadata": {
        "id": "JPmAp8CArBqX"
      },
      "outputs": [],
      "source": [
        "def txt_to_csv(model):\n",
        "    r = open(f\"uncertainty_estimation_results_{model}.txt\", \"r\")\n",
        "    w = open(f\"uncertainty_estimation_results_{model}.csv\", \"w+\")\n",
        "    w.write(\"accuracy,method,type,threshold,AUC\\n\")\n",
        "    for line in r:\n",
        "      line = line.split()\n",
        "      line = \",\".join(line[1::2])\n",
        "      w.write(line+\"\\n\")\n",
        "\n",
        "    r.close()\n",
        "    w.close()"
      ]
    },
    {
      "cell_type": "markdown",
      "source": [
        "#### OPT"
      ],
      "metadata": {
        "id": "gxPp397ZsBql"
      }
    },
    {
      "cell_type": "code",
      "source": [
        "txt_to_csv(\"opt\")\n",
        "opt_df = pd.read_csv(\"uncertainty_estimation_results_opt.csv\")\n",
        "opt_df[\"Method\"] = [\"SAR\" if \"sar\" in method else \"Other\" for method in opt_df[\"method\"]]\n",
        "opt_df.head()\n",
        "\n",
        "alt.Chart(opt_df, title=\"OPT-2.7b results on PubMedQA\").mark_bar().encode(\n",
        "    alt.Column(\"type\"),\n",
        "    alt.Y(\"method\", sort=None),\n",
        "    alt.X(\"AUC\"),\n",
        "    color=alt.Color(\"Method\", scale=alt.Scale(domain=(\"SAR\", \"Other\"), range=[\"orange\", \"lightblue\"]))\n",
        ")"
      ],
      "metadata": {
        "colab": {
          "base_uri": "https://localhost:8080/",
          "height": 402
        },
        "id": "Wh9fuGI9rLMk",
        "outputId": "40096f73-2058-4743-c623-34655367ca4a"
      },
      "execution_count": 3,
      "outputs": [
        {
          "output_type": "stream",
          "name": "stderr",
          "text": [
            "/usr/local/lib/python3.10/dist-packages/altair/utils/core.py:384: FutureWarning: the convert_dtype parameter is deprecated and will be removed in a future version.  Do ``ser.astype(object).apply()`` instead if you want ``convert_dtype=False``.\n",
            "  col = df[col_name].apply(to_list_if_array, convert_dtype=False)\n",
            "/usr/local/lib/python3.10/dist-packages/altair/utils/core.py:384: FutureWarning: the convert_dtype parameter is deprecated and will be removed in a future version.  Do ``ser.astype(object).apply()`` instead if you want ``convert_dtype=False``.\n",
            "  col = df[col_name].apply(to_list_if_array, convert_dtype=False)\n",
            "/usr/local/lib/python3.10/dist-packages/altair/utils/core.py:384: FutureWarning: the convert_dtype parameter is deprecated and will be removed in a future version.  Do ``ser.astype(object).apply()`` instead if you want ``convert_dtype=False``.\n",
            "  col = df[col_name].apply(to_list_if_array, convert_dtype=False)\n"
          ]
        },
        {
          "output_type": "execute_result",
          "data": {
            "text/html": [
              "\n",
              "<div id=\"altair-viz-a78187d5b98b4f95919aa77897696423\"></div>\n",
              "<script type=\"text/javascript\">\n",
              "  var VEGA_DEBUG = (typeof VEGA_DEBUG == \"undefined\") ? {} : VEGA_DEBUG;\n",
              "  (function(spec, embedOpt){\n",
              "    let outputDiv = document.currentScript.previousElementSibling;\n",
              "    if (outputDiv.id !== \"altair-viz-a78187d5b98b4f95919aa77897696423\") {\n",
              "      outputDiv = document.getElementById(\"altair-viz-a78187d5b98b4f95919aa77897696423\");\n",
              "    }\n",
              "    const paths = {\n",
              "      \"vega\": \"https://cdn.jsdelivr.net/npm//vega@5?noext\",\n",
              "      \"vega-lib\": \"https://cdn.jsdelivr.net/npm//vega-lib?noext\",\n",
              "      \"vega-lite\": \"https://cdn.jsdelivr.net/npm//vega-lite@4.17.0?noext\",\n",
              "      \"vega-embed\": \"https://cdn.jsdelivr.net/npm//vega-embed@6?noext\",\n",
              "    };\n",
              "\n",
              "    function maybeLoadScript(lib, version) {\n",
              "      var key = `${lib.replace(\"-\", \"\")}_version`;\n",
              "      return (VEGA_DEBUG[key] == version) ?\n",
              "        Promise.resolve(paths[lib]) :\n",
              "        new Promise(function(resolve, reject) {\n",
              "          var s = document.createElement('script');\n",
              "          document.getElementsByTagName(\"head\")[0].appendChild(s);\n",
              "          s.async = true;\n",
              "          s.onload = () => {\n",
              "            VEGA_DEBUG[key] = version;\n",
              "            return resolve(paths[lib]);\n",
              "          };\n",
              "          s.onerror = () => reject(`Error loading script: ${paths[lib]}`);\n",
              "          s.src = paths[lib];\n",
              "        });\n",
              "    }\n",
              "\n",
              "    function showError(err) {\n",
              "      outputDiv.innerHTML = `<div class=\"error\" style=\"color:red;\">${err}</div>`;\n",
              "      throw err;\n",
              "    }\n",
              "\n",
              "    function displayChart(vegaEmbed) {\n",
              "      vegaEmbed(outputDiv, spec, embedOpt)\n",
              "        .catch(err => showError(`Javascript Error: ${err.message}<br>This usually means there's a typo in your chart specification. See the javascript console for the full traceback.`));\n",
              "    }\n",
              "\n",
              "    if(typeof define === \"function\" && define.amd) {\n",
              "      requirejs.config({paths});\n",
              "      require([\"vega-embed\"], displayChart, err => showError(`Error loading script: ${err.message}`));\n",
              "    } else {\n",
              "      maybeLoadScript(\"vega\", \"5\")\n",
              "        .then(() => maybeLoadScript(\"vega-lite\", \"4.17.0\"))\n",
              "        .then(() => maybeLoadScript(\"vega-embed\", \"6\"))\n",
              "        .catch(showError)\n",
              "        .then(() => displayChart(vegaEmbed));\n",
              "    }\n",
              "  })({\"config\": {\"view\": {\"continuousWidth\": 400, \"continuousHeight\": 300}}, \"data\": {\"name\": \"data-282cf6bea07e4096630716502fde033a\"}, \"mark\": \"bar\", \"encoding\": {\"color\": {\"field\": \"Method\", \"scale\": {\"domain\": [\"SAR\", \"Other\"], \"range\": [\"orange\", \"lightblue\"]}, \"type\": \"nominal\"}, \"column\": {\"field\": \"type\", \"type\": \"nominal\"}, \"x\": {\"field\": \"AUC\", \"type\": \"quantitative\"}, \"y\": {\"field\": \"method\", \"sort\": null, \"type\": \"nominal\"}}, \"title\": \"OPT-2.7b results on PubMedQA\", \"$schema\": \"https://vega.github.io/schema/vega-lite/v4.17.0.json\", \"datasets\": {\"data-282cf6bea07e4096630716502fde033a\": [{\"accuracy\": 0.48, \"method\": \"sar\", \"type\": \"rougeL_to_target\", \"threshold\": 0.5, \"AUC\": 0.4551, \"Method\": \"SAR\"}, {\"accuracy\": 0.48, \"method\": \"sar\", \"type\": \"sentsim\", \"threshold\": 0.5, \"AUC\": 0.4551, \"Method\": \"SAR\"}, {\"accuracy\": 0.48, \"method\": \"sentence-sar\", \"type\": \"rougeL_to_target\", \"threshold\": 0.5, \"AUC\": 0.516, \"Method\": \"SAR\"}, {\"accuracy\": 0.48, \"method\": \"sentence-sar\", \"type\": \"sentsim\", \"threshold\": 0.5, \"AUC\": 0.516, \"Method\": \"SAR\"}, {\"accuracy\": 0.48, \"method\": \"token-sar\", \"type\": \"rougeL_to_target\", \"threshold\": 0.5, \"AUC\": 0.4952, \"Method\": \"SAR\"}, {\"accuracy\": 0.48, \"method\": \"token-sar\", \"type\": \"sentsim\", \"threshold\": 0.5, \"AUC\": 0.4952, \"Method\": \"SAR\"}, {\"accuracy\": 0.48, \"method\": \"semantic-entropy\", \"type\": \"rougeL_to_target\", \"threshold\": 0.5, \"AUC\": 0.4287, \"Method\": \"Other\"}, {\"accuracy\": 0.48, \"method\": \"semantic-entropy\", \"type\": \"sentsim\", \"threshold\": 0.5, \"AUC\": 0.4287, \"Method\": \"Other\"}, {\"accuracy\": 0.48, \"method\": \"len-normed-predictive-entropy\", \"type\": \"rougeL_to_target\", \"threshold\": 0.5, \"AUC\": 0.4079, \"Method\": \"Other\"}, {\"accuracy\": 0.48, \"method\": \"len-normed-predictive-entropy\", \"type\": \"sentsim\", \"threshold\": 0.5, \"AUC\": 0.4079, \"Method\": \"Other\"}, {\"accuracy\": 0.48, \"method\": \"predictive-entropy\", \"type\": \"rougeL_to_target\", \"threshold\": 0.5, \"AUC\": 0.4079, \"Method\": \"Other\"}, {\"accuracy\": 0.48, \"method\": \"predictive-entropy\", \"type\": \"sentsim\", \"threshold\": 0.5, \"AUC\": 0.4079, \"Method\": \"Other\"}, {\"accuracy\": 0.48, \"method\": \"lexical-similarity\", \"type\": \"rougeL_to_target\", \"threshold\": 0.5, \"AUC\": 0.4303, \"Method\": \"Other\"}, {\"accuracy\": 0.48, \"method\": \"lexical-similarity\", \"type\": \"sentsim\", \"threshold\": 0.5, \"AUC\": 0.4303, \"Method\": \"Other\"}]}}, {\"mode\": \"vega-lite\"});\n",
              "</script>"
            ],
            "text/plain": [
              "alt.Chart(...)"
            ]
          },
          "metadata": {},
          "execution_count": 3
        }
      ]
    },
    {
      "cell_type": "markdown",
      "source": [
        "#### GPT-NEO"
      ],
      "metadata": {
        "id": "ANI-yZNUsD0J"
      }
    },
    {
      "cell_type": "code",
      "source": [
        "txt_to_csv(\"gpt-neo\")\n",
        "gpt_df = pd.read_csv(\"uncertainty_estimation_results_gpt-neo.csv\")\n",
        "gpt_df[\"Method\"] = [\"SAR\" if \"sar\" in method else \"Other\" for method in gpt_df[\"method\"]]\n",
        "\n",
        "alt.Chart(gpt_df, title=\"GPT-neo-2.7b results on PubMedQA\").mark_bar().encode(\n",
        "    alt.Column(\"type\"),\n",
        "    alt.Y(\"method\", sort=None),\n",
        "    alt.X(\"AUC\"),\n",
        "    color=alt.Color(\"Method\", scale=alt.Scale(domain=(\"SAR\", \"Other\"), range=[\"orange\", \"lightblue\"]))\n",
        ")"
      ],
      "metadata": {
        "colab": {
          "base_uri": "https://localhost:8080/",
          "height": 402
        },
        "id": "PdeMcDPwrTB3",
        "outputId": "6fa6165b-ff50-41a1-8f1b-08324959b2aa"
      },
      "execution_count": 4,
      "outputs": [
        {
          "output_type": "stream",
          "name": "stderr",
          "text": [
            "/usr/local/lib/python3.10/dist-packages/altair/utils/core.py:384: FutureWarning: the convert_dtype parameter is deprecated and will be removed in a future version.  Do ``ser.astype(object).apply()`` instead if you want ``convert_dtype=False``.\n",
            "  col = df[col_name].apply(to_list_if_array, convert_dtype=False)\n",
            "/usr/local/lib/python3.10/dist-packages/altair/utils/core.py:384: FutureWarning: the convert_dtype parameter is deprecated and will be removed in a future version.  Do ``ser.astype(object).apply()`` instead if you want ``convert_dtype=False``.\n",
            "  col = df[col_name].apply(to_list_if_array, convert_dtype=False)\n",
            "/usr/local/lib/python3.10/dist-packages/altair/utils/core.py:384: FutureWarning: the convert_dtype parameter is deprecated and will be removed in a future version.  Do ``ser.astype(object).apply()`` instead if you want ``convert_dtype=False``.\n",
            "  col = df[col_name].apply(to_list_if_array, convert_dtype=False)\n"
          ]
        },
        {
          "output_type": "execute_result",
          "data": {
            "text/html": [
              "\n",
              "<div id=\"altair-viz-4743f615898443978cdeb8d3af1657fe\"></div>\n",
              "<script type=\"text/javascript\">\n",
              "  var VEGA_DEBUG = (typeof VEGA_DEBUG == \"undefined\") ? {} : VEGA_DEBUG;\n",
              "  (function(spec, embedOpt){\n",
              "    let outputDiv = document.currentScript.previousElementSibling;\n",
              "    if (outputDiv.id !== \"altair-viz-4743f615898443978cdeb8d3af1657fe\") {\n",
              "      outputDiv = document.getElementById(\"altair-viz-4743f615898443978cdeb8d3af1657fe\");\n",
              "    }\n",
              "    const paths = {\n",
              "      \"vega\": \"https://cdn.jsdelivr.net/npm//vega@5?noext\",\n",
              "      \"vega-lib\": \"https://cdn.jsdelivr.net/npm//vega-lib?noext\",\n",
              "      \"vega-lite\": \"https://cdn.jsdelivr.net/npm//vega-lite@4.17.0?noext\",\n",
              "      \"vega-embed\": \"https://cdn.jsdelivr.net/npm//vega-embed@6?noext\",\n",
              "    };\n",
              "\n",
              "    function maybeLoadScript(lib, version) {\n",
              "      var key = `${lib.replace(\"-\", \"\")}_version`;\n",
              "      return (VEGA_DEBUG[key] == version) ?\n",
              "        Promise.resolve(paths[lib]) :\n",
              "        new Promise(function(resolve, reject) {\n",
              "          var s = document.createElement('script');\n",
              "          document.getElementsByTagName(\"head\")[0].appendChild(s);\n",
              "          s.async = true;\n",
              "          s.onload = () => {\n",
              "            VEGA_DEBUG[key] = version;\n",
              "            return resolve(paths[lib]);\n",
              "          };\n",
              "          s.onerror = () => reject(`Error loading script: ${paths[lib]}`);\n",
              "          s.src = paths[lib];\n",
              "        });\n",
              "    }\n",
              "\n",
              "    function showError(err) {\n",
              "      outputDiv.innerHTML = `<div class=\"error\" style=\"color:red;\">${err}</div>`;\n",
              "      throw err;\n",
              "    }\n",
              "\n",
              "    function displayChart(vegaEmbed) {\n",
              "      vegaEmbed(outputDiv, spec, embedOpt)\n",
              "        .catch(err => showError(`Javascript Error: ${err.message}<br>This usually means there's a typo in your chart specification. See the javascript console for the full traceback.`));\n",
              "    }\n",
              "\n",
              "    if(typeof define === \"function\" && define.amd) {\n",
              "      requirejs.config({paths});\n",
              "      require([\"vega-embed\"], displayChart, err => showError(`Error loading script: ${err.message}`));\n",
              "    } else {\n",
              "      maybeLoadScript(\"vega\", \"5\")\n",
              "        .then(() => maybeLoadScript(\"vega-lite\", \"4.17.0\"))\n",
              "        .then(() => maybeLoadScript(\"vega-embed\", \"6\"))\n",
              "        .catch(showError)\n",
              "        .then(() => displayChart(vegaEmbed));\n",
              "    }\n",
              "  })({\"config\": {\"view\": {\"continuousWidth\": 400, \"continuousHeight\": 300}}, \"data\": {\"name\": \"data-13e32f1e5dcfa39417d096e036765899\"}, \"mark\": \"bar\", \"encoding\": {\"color\": {\"field\": \"Method\", \"scale\": {\"domain\": [\"SAR\", \"Other\"], \"range\": [\"orange\", \"lightblue\"]}, \"type\": \"nominal\"}, \"column\": {\"field\": \"type\", \"type\": \"nominal\"}, \"x\": {\"field\": \"AUC\", \"type\": \"quantitative\"}, \"y\": {\"field\": \"method\", \"sort\": null, \"type\": \"nominal\"}}, \"title\": \"GPT-neo-2.7b results on PubMedQA\", \"$schema\": \"https://vega.github.io/schema/vega-lite/v4.17.0.json\", \"datasets\": {\"data-13e32f1e5dcfa39417d096e036765899\": [{\"accuracy\": 0.04, \"method\": \"sar\", \"type\": \"rougeL_to_target\", \"threshold\": 0.5, \"AUC\": 0.6875, \"Method\": \"SAR\"}, {\"accuracy\": 0.44, \"method\": \"sar\", \"type\": \"sentsim\", \"threshold\": 0.5, \"AUC\": 0.4773, \"Method\": \"SAR\"}, {\"accuracy\": 0.04, \"method\": \"sentence-sar\", \"type\": \"rougeL_to_target\", \"threshold\": 0.5, \"AUC\": 0.4271, \"Method\": \"SAR\"}, {\"accuracy\": 0.44, \"method\": \"sentence-sar\", \"type\": \"sentsim\", \"threshold\": 0.5, \"AUC\": 0.5406, \"Method\": \"SAR\"}, {\"accuracy\": 0.04, \"method\": \"token-sar\", \"type\": \"rougeL_to_target\", \"threshold\": 0.5, \"AUC\": 0.5, \"Method\": \"SAR\"}, {\"accuracy\": 0.44, \"method\": \"token-sar\", \"type\": \"sentsim\", \"threshold\": 0.5, \"AUC\": 0.5, \"Method\": \"SAR\"}, {\"accuracy\": 0.04, \"method\": \"semantic-entropy\", \"type\": \"rougeL_to_target\", \"threshold\": 0.5, \"AUC\": 0.5, \"Method\": \"Other\"}, {\"accuracy\": 0.44, \"method\": \"semantic-entropy\", \"type\": \"sentsim\", \"threshold\": 0.5, \"AUC\": 0.5, \"Method\": \"Other\"}, {\"accuracy\": 0.04, \"method\": \"len-normed-predictive-entropy\", \"type\": \"rougeL_to_target\", \"threshold\": 0.5, \"AUC\": 0.5, \"Method\": \"Other\"}, {\"accuracy\": 0.44, \"method\": \"len-normed-predictive-entropy\", \"type\": \"sentsim\", \"threshold\": 0.5, \"AUC\": 0.5, \"Method\": \"Other\"}, {\"accuracy\": 0.04, \"method\": \"predictive-entropy\", \"type\": \"rougeL_to_target\", \"threshold\": 0.5, \"AUC\": 0.5, \"Method\": \"Other\"}, {\"accuracy\": 0.44, \"method\": \"predictive-entropy\", \"type\": \"sentsim\", \"threshold\": 0.5, \"AUC\": 0.5, \"Method\": \"Other\"}, {\"accuracy\": 0.04, \"method\": \"lexical-similarity\", \"type\": \"rougeL_to_target\", \"threshold\": 0.5, \"AUC\": 0.2604, \"Method\": \"Other\"}, {\"accuracy\": 0.44, \"method\": \"lexical-similarity\", \"type\": \"sentsim\", \"threshold\": 0.5, \"AUC\": 0.4545, \"Method\": \"Other\"}]}}, {\"mode\": \"vega-lite\"});\n",
              "</script>"
            ],
            "text/plain": [
              "alt.Chart(...)"
            ]
          },
          "metadata": {},
          "execution_count": 4
        }
      ]
    },
    {
      "cell_type": "markdown",
      "source": [
        "#### Gemma"
      ],
      "metadata": {
        "id": "WdFseXeSsGTU"
      }
    },
    {
      "cell_type": "code",
      "source": [
        "txt_to_csv(\"gemma\")\n",
        "gemma_df = pd.read_csv(\"uncertainty_estimation_results_gemma.csv\")\n",
        "gemma_df[\"Method\"] = [\"SAR\" if \"sar\" in method else \"Other\" for method in gemma_df[\"method\"]]\n",
        "\n",
        "alt.Chart(gemma_df, title=\"Gemma-2b results on PubMedQA\").mark_bar().encode(\n",
        "    alt.Column(\"type\"),\n",
        "    alt.Y(\"method\", sort=None),\n",
        "    alt.X(\"AUC\"),\n",
        "    color=alt.Color(\"Method\", scale=alt.Scale(domain=(\"SAR\", \"Other\"), range=[\"orange\", \"lightblue\"]))\n",
        ")"
      ],
      "metadata": {
        "colab": {
          "base_uri": "https://localhost:8080/",
          "height": 402
        },
        "id": "4UCYtZ9rrVvj",
        "outputId": "f33d189a-43a5-4333-9b41-762a1f933b2e"
      },
      "execution_count": 5,
      "outputs": [
        {
          "output_type": "stream",
          "name": "stderr",
          "text": [
            "/usr/local/lib/python3.10/dist-packages/altair/utils/core.py:384: FutureWarning: the convert_dtype parameter is deprecated and will be removed in a future version.  Do ``ser.astype(object).apply()`` instead if you want ``convert_dtype=False``.\n",
            "  col = df[col_name].apply(to_list_if_array, convert_dtype=False)\n",
            "/usr/local/lib/python3.10/dist-packages/altair/utils/core.py:384: FutureWarning: the convert_dtype parameter is deprecated and will be removed in a future version.  Do ``ser.astype(object).apply()`` instead if you want ``convert_dtype=False``.\n",
            "  col = df[col_name].apply(to_list_if_array, convert_dtype=False)\n",
            "/usr/local/lib/python3.10/dist-packages/altair/utils/core.py:384: FutureWarning: the convert_dtype parameter is deprecated and will be removed in a future version.  Do ``ser.astype(object).apply()`` instead if you want ``convert_dtype=False``.\n",
            "  col = df[col_name].apply(to_list_if_array, convert_dtype=False)\n"
          ]
        },
        {
          "output_type": "execute_result",
          "data": {
            "text/html": [
              "\n",
              "<div id=\"altair-viz-29ef49c8d3954e3b9f3905980a7604a9\"></div>\n",
              "<script type=\"text/javascript\">\n",
              "  var VEGA_DEBUG = (typeof VEGA_DEBUG == \"undefined\") ? {} : VEGA_DEBUG;\n",
              "  (function(spec, embedOpt){\n",
              "    let outputDiv = document.currentScript.previousElementSibling;\n",
              "    if (outputDiv.id !== \"altair-viz-29ef49c8d3954e3b9f3905980a7604a9\") {\n",
              "      outputDiv = document.getElementById(\"altair-viz-29ef49c8d3954e3b9f3905980a7604a9\");\n",
              "    }\n",
              "    const paths = {\n",
              "      \"vega\": \"https://cdn.jsdelivr.net/npm//vega@5?noext\",\n",
              "      \"vega-lib\": \"https://cdn.jsdelivr.net/npm//vega-lib?noext\",\n",
              "      \"vega-lite\": \"https://cdn.jsdelivr.net/npm//vega-lite@4.17.0?noext\",\n",
              "      \"vega-embed\": \"https://cdn.jsdelivr.net/npm//vega-embed@6?noext\",\n",
              "    };\n",
              "\n",
              "    function maybeLoadScript(lib, version) {\n",
              "      var key = `${lib.replace(\"-\", \"\")}_version`;\n",
              "      return (VEGA_DEBUG[key] == version) ?\n",
              "        Promise.resolve(paths[lib]) :\n",
              "        new Promise(function(resolve, reject) {\n",
              "          var s = document.createElement('script');\n",
              "          document.getElementsByTagName(\"head\")[0].appendChild(s);\n",
              "          s.async = true;\n",
              "          s.onload = () => {\n",
              "            VEGA_DEBUG[key] = version;\n",
              "            return resolve(paths[lib]);\n",
              "          };\n",
              "          s.onerror = () => reject(`Error loading script: ${paths[lib]}`);\n",
              "          s.src = paths[lib];\n",
              "        });\n",
              "    }\n",
              "\n",
              "    function showError(err) {\n",
              "      outputDiv.innerHTML = `<div class=\"error\" style=\"color:red;\">${err}</div>`;\n",
              "      throw err;\n",
              "    }\n",
              "\n",
              "    function displayChart(vegaEmbed) {\n",
              "      vegaEmbed(outputDiv, spec, embedOpt)\n",
              "        .catch(err => showError(`Javascript Error: ${err.message}<br>This usually means there's a typo in your chart specification. See the javascript console for the full traceback.`));\n",
              "    }\n",
              "\n",
              "    if(typeof define === \"function\" && define.amd) {\n",
              "      requirejs.config({paths});\n",
              "      require([\"vega-embed\"], displayChart, err => showError(`Error loading script: ${err.message}`));\n",
              "    } else {\n",
              "      maybeLoadScript(\"vega\", \"5\")\n",
              "        .then(() => maybeLoadScript(\"vega-lite\", \"4.17.0\"))\n",
              "        .then(() => maybeLoadScript(\"vega-embed\", \"6\"))\n",
              "        .catch(showError)\n",
              "        .then(() => displayChart(vegaEmbed));\n",
              "    }\n",
              "  })({\"config\": {\"view\": {\"continuousWidth\": 400, \"continuousHeight\": 300}}, \"data\": {\"name\": \"data-2ed60c08cb4bd81d3d1c530459898178\"}, \"mark\": \"bar\", \"encoding\": {\"color\": {\"field\": \"Method\", \"scale\": {\"domain\": [\"SAR\", \"Other\"], \"range\": [\"orange\", \"lightblue\"]}, \"type\": \"nominal\"}, \"column\": {\"field\": \"type\", \"type\": \"nominal\"}, \"x\": {\"field\": \"AUC\", \"type\": \"quantitative\"}, \"y\": {\"field\": \"method\", \"sort\": null, \"type\": \"nominal\"}}, \"title\": \"Gemma-2b results on PubMedQA\", \"$schema\": \"https://vega.github.io/schema/vega-lite/v4.17.0.json\", \"datasets\": {\"data-2ed60c08cb4bd81d3d1c530459898178\": [{\"accuracy\": 0.64, \"method\": \"sar\", \"type\": \"rougeL_to_target\", \"threshold\": 0.5, \"AUC\": 0.3837, \"Method\": \"SAR\"}, {\"accuracy\": 0.64, \"method\": \"sar\", \"type\": \"sentsim\", \"threshold\": 0.5, \"AUC\": 0.3837, \"Method\": \"SAR\"}, {\"accuracy\": 0.64, \"method\": \"sentence-sar\", \"type\": \"rougeL_to_target\", \"threshold\": 0.5, \"AUC\": 0.5451, \"Method\": \"SAR\"}, {\"accuracy\": 0.64, \"method\": \"sentence-sar\", \"type\": \"sentsim\", \"threshold\": 0.5, \"AUC\": 0.5451, \"Method\": \"SAR\"}, {\"accuracy\": 0.64, \"method\": \"token-sar\", \"type\": \"rougeL_to_target\", \"threshold\": 0.5, \"AUC\": 0.5, \"Method\": \"SAR\"}, {\"accuracy\": 0.64, \"method\": \"token-sar\", \"type\": \"sentsim\", \"threshold\": 0.5, \"AUC\": 0.5, \"Method\": \"SAR\"}, {\"accuracy\": 0.64, \"method\": \"semantic-entropy\", \"type\": \"rougeL_to_target\", \"threshold\": 0.5, \"AUC\": 0.4792, \"Method\": \"Other\"}, {\"accuracy\": 0.64, \"method\": \"semantic-entropy\", \"type\": \"sentsim\", \"threshold\": 0.5, \"AUC\": 0.4792, \"Method\": \"Other\"}, {\"accuracy\": 0.64, \"method\": \"len-normed-predictive-entropy\", \"type\": \"rougeL_to_target\", \"threshold\": 0.5, \"AUC\": 0.4774, \"Method\": \"Other\"}, {\"accuracy\": 0.64, \"method\": \"len-normed-predictive-entropy\", \"type\": \"sentsim\", \"threshold\": 0.5, \"AUC\": 0.4774, \"Method\": \"Other\"}, {\"accuracy\": 0.64, \"method\": \"predictive-entropy\", \"type\": \"rougeL_to_target\", \"threshold\": 0.5, \"AUC\": 0.4774, \"Method\": \"Other\"}, {\"accuracy\": 0.64, \"method\": \"predictive-entropy\", \"type\": \"sentsim\", \"threshold\": 0.5, \"AUC\": 0.4774, \"Method\": \"Other\"}, {\"accuracy\": 0.64, \"method\": \"lexical-similarity\", \"type\": \"rougeL_to_target\", \"threshold\": 0.5, \"AUC\": 0.4523, \"Method\": \"Other\"}, {\"accuracy\": 0.64, \"method\": \"lexical-similarity\", \"type\": \"sentsim\", \"threshold\": 0.5, \"AUC\": 0.4523, \"Method\": \"Other\"}]}}, {\"mode\": \"vega-lite\"});\n",
              "</script>"
            ],
            "text/plain": [
              "alt.Chart(...)"
            ]
          },
          "metadata": {},
          "execution_count": 5
        }
      ]
    },
    {
      "cell_type": "markdown",
      "source": [
        "#### Llama 3.2"
      ],
      "metadata": {
        "id": "ixdiYXYrsIEr"
      }
    },
    {
      "cell_type": "code",
      "source": [
        "txt_to_csv(\"llama3.2\")\n",
        "llama3_df = pd.read_csv(\"uncertainty_estimation_results_llama3.2.csv\")\n",
        "llama3_df[\"Method\"] = [\"SAR\" if \"sar\" in method else \"Other\" for method in llama3_df[\"method\"]]\n",
        "\n",
        "alt.Chart(llama3_df, title=\"Llama3.2-1b results on PubMedQA\").mark_bar().encode(\n",
        "    alt.Column(\"type\"),\n",
        "    alt.Y(\"method\", sort=None),\n",
        "    alt.X(\"AUC\"),\n",
        "    color=alt.Color(\"Method\", scale=alt.Scale(domain=(\"SAR\", \"Other\"), range=[\"orange\", \"lightblue\"]))\n",
        ")"
      ],
      "metadata": {
        "colab": {
          "base_uri": "https://localhost:8080/",
          "height": 402
        },
        "id": "fH4Dv1vIrWjd",
        "outputId": "f3a03aa0-8b7d-4543-9292-df3a5e7cef2a"
      },
      "execution_count": 6,
      "outputs": [
        {
          "output_type": "stream",
          "name": "stderr",
          "text": [
            "/usr/local/lib/python3.10/dist-packages/altair/utils/core.py:384: FutureWarning: the convert_dtype parameter is deprecated and will be removed in a future version.  Do ``ser.astype(object).apply()`` instead if you want ``convert_dtype=False``.\n",
            "  col = df[col_name].apply(to_list_if_array, convert_dtype=False)\n",
            "/usr/local/lib/python3.10/dist-packages/altair/utils/core.py:384: FutureWarning: the convert_dtype parameter is deprecated and will be removed in a future version.  Do ``ser.astype(object).apply()`` instead if you want ``convert_dtype=False``.\n",
            "  col = df[col_name].apply(to_list_if_array, convert_dtype=False)\n",
            "/usr/local/lib/python3.10/dist-packages/altair/utils/core.py:384: FutureWarning: the convert_dtype parameter is deprecated and will be removed in a future version.  Do ``ser.astype(object).apply()`` instead if you want ``convert_dtype=False``.\n",
            "  col = df[col_name].apply(to_list_if_array, convert_dtype=False)\n"
          ]
        },
        {
          "output_type": "execute_result",
          "data": {
            "text/html": [
              "\n",
              "<div id=\"altair-viz-38c03b8fd1004b14b4b001004d10471a\"></div>\n",
              "<script type=\"text/javascript\">\n",
              "  var VEGA_DEBUG = (typeof VEGA_DEBUG == \"undefined\") ? {} : VEGA_DEBUG;\n",
              "  (function(spec, embedOpt){\n",
              "    let outputDiv = document.currentScript.previousElementSibling;\n",
              "    if (outputDiv.id !== \"altair-viz-38c03b8fd1004b14b4b001004d10471a\") {\n",
              "      outputDiv = document.getElementById(\"altair-viz-38c03b8fd1004b14b4b001004d10471a\");\n",
              "    }\n",
              "    const paths = {\n",
              "      \"vega\": \"https://cdn.jsdelivr.net/npm//vega@5?noext\",\n",
              "      \"vega-lib\": \"https://cdn.jsdelivr.net/npm//vega-lib?noext\",\n",
              "      \"vega-lite\": \"https://cdn.jsdelivr.net/npm//vega-lite@4.17.0?noext\",\n",
              "      \"vega-embed\": \"https://cdn.jsdelivr.net/npm//vega-embed@6?noext\",\n",
              "    };\n",
              "\n",
              "    function maybeLoadScript(lib, version) {\n",
              "      var key = `${lib.replace(\"-\", \"\")}_version`;\n",
              "      return (VEGA_DEBUG[key] == version) ?\n",
              "        Promise.resolve(paths[lib]) :\n",
              "        new Promise(function(resolve, reject) {\n",
              "          var s = document.createElement('script');\n",
              "          document.getElementsByTagName(\"head\")[0].appendChild(s);\n",
              "          s.async = true;\n",
              "          s.onload = () => {\n",
              "            VEGA_DEBUG[key] = version;\n",
              "            return resolve(paths[lib]);\n",
              "          };\n",
              "          s.onerror = () => reject(`Error loading script: ${paths[lib]}`);\n",
              "          s.src = paths[lib];\n",
              "        });\n",
              "    }\n",
              "\n",
              "    function showError(err) {\n",
              "      outputDiv.innerHTML = `<div class=\"error\" style=\"color:red;\">${err}</div>`;\n",
              "      throw err;\n",
              "    }\n",
              "\n",
              "    function displayChart(vegaEmbed) {\n",
              "      vegaEmbed(outputDiv, spec, embedOpt)\n",
              "        .catch(err => showError(`Javascript Error: ${err.message}<br>This usually means there's a typo in your chart specification. See the javascript console for the full traceback.`));\n",
              "    }\n",
              "\n",
              "    if(typeof define === \"function\" && define.amd) {\n",
              "      requirejs.config({paths});\n",
              "      require([\"vega-embed\"], displayChart, err => showError(`Error loading script: ${err.message}`));\n",
              "    } else {\n",
              "      maybeLoadScript(\"vega\", \"5\")\n",
              "        .then(() => maybeLoadScript(\"vega-lite\", \"4.17.0\"))\n",
              "        .then(() => maybeLoadScript(\"vega-embed\", \"6\"))\n",
              "        .catch(showError)\n",
              "        .then(() => displayChart(vegaEmbed));\n",
              "    }\n",
              "  })({\"config\": {\"view\": {\"continuousWidth\": 400, \"continuousHeight\": 300}}, \"data\": {\"name\": \"data-9cafcd664ef73688b536deb37ebc6bb4\"}, \"mark\": \"bar\", \"encoding\": {\"color\": {\"field\": \"Method\", \"scale\": {\"domain\": [\"SAR\", \"Other\"], \"range\": [\"orange\", \"lightblue\"]}, \"type\": \"nominal\"}, \"column\": {\"field\": \"type\", \"type\": \"nominal\"}, \"x\": {\"field\": \"AUC\", \"type\": \"quantitative\"}, \"y\": {\"field\": \"method\", \"sort\": null, \"type\": \"nominal\"}}, \"title\": \"Llama3.2-1b results on PubMedQA\", \"$schema\": \"https://vega.github.io/schema/vega-lite/v4.17.0.json\", \"datasets\": {\"data-9cafcd664ef73688b536deb37ebc6bb4\": [{\"accuracy\": 0.68, \"method\": \"sar\", \"type\": \"rougeL_to_target\", \"threshold\": 0.5, \"AUC\": 0.4559, \"Method\": \"SAR\"}, {\"accuracy\": 0.7, \"method\": \"sar\", \"type\": \"sentsim\", \"threshold\": 0.5, \"AUC\": 0.4229, \"Method\": \"SAR\"}, {\"accuracy\": 0.68, \"method\": \"sentence-sar\", \"type\": \"rougeL_to_target\", \"threshold\": 0.5, \"AUC\": 0.5551, \"Method\": \"SAR\"}, {\"accuracy\": 0.7, \"method\": \"sentence-sar\", \"type\": \"sentsim\", \"threshold\": 0.5, \"AUC\": 0.5924, \"Method\": \"SAR\"}, {\"accuracy\": 0.68, \"method\": \"token-sar\", \"type\": \"rougeL_to_target\", \"threshold\": 0.5, \"AUC\": 0.421, \"Method\": \"SAR\"}, {\"accuracy\": 0.7, \"method\": \"token-sar\", \"type\": \"sentsim\", \"threshold\": 0.5, \"AUC\": 0.3905, \"Method\": \"SAR\"}, {\"accuracy\": 0.68, \"method\": \"semantic-entropy\", \"type\": \"rougeL_to_target\", \"threshold\": 0.5, \"AUC\": 0.5478, \"Method\": \"Other\"}, {\"accuracy\": 0.7, \"method\": \"semantic-entropy\", \"type\": \"sentsim\", \"threshold\": 0.5, \"AUC\": 0.5371, \"Method\": \"Other\"}, {\"accuracy\": 0.68, \"method\": \"len-normed-predictive-entropy\", \"type\": \"rougeL_to_target\", \"threshold\": 0.5, \"AUC\": 0.454, \"Method\": \"Other\"}, {\"accuracy\": 0.7, \"method\": \"len-normed-predictive-entropy\", \"type\": \"sentsim\", \"threshold\": 0.5, \"AUC\": 0.4305, \"Method\": \"Other\"}, {\"accuracy\": 0.68, \"method\": \"predictive-entropy\", \"type\": \"rougeL_to_target\", \"threshold\": 0.5, \"AUC\": 0.5, \"Method\": \"Other\"}, {\"accuracy\": 0.7, \"method\": \"predictive-entropy\", \"type\": \"sentsim\", \"threshold\": 0.5, \"AUC\": 0.5448, \"Method\": \"Other\"}, {\"accuracy\": 0.68, \"method\": \"lexical-similarity\", \"type\": \"rougeL_to_target\", \"threshold\": 0.5, \"AUC\": 0.546, \"Method\": \"Other\"}, {\"accuracy\": 0.7, \"method\": \"lexical-similarity\", \"type\": \"sentsim\", \"threshold\": 0.5, \"AUC\": 0.5295, \"Method\": \"Other\"}]}}, {\"mode\": \"vega-lite\"});\n",
              "</script>"
            ],
            "text/plain": [
              "alt.Chart(...)"
            ]
          },
          "metadata": {},
          "execution_count": 6
        }
      ]
    },
    {
      "cell_type": "markdown",
      "source": [
        "#### Phi-2"
      ],
      "metadata": {
        "id": "QGFEttQrsKce"
      }
    },
    {
      "cell_type": "code",
      "source": [
        "txt_to_csv(\"phi2\")\n",
        "phi2_df = pd.read_csv(\"uncertainty_estimation_results_phi2.csv\")\n",
        "phi2_df[\"Method\"] = [\"SAR\" if \"sar\" in method else \"Other\" for method in phi2_df[\"method\"]]\n",
        "\n",
        "alt.Chart(phi2_df, title=\"Phi2 results on PubMedQA\").mark_bar().encode(\n",
        "    alt.Column(\"type\"),\n",
        "    alt.Y(\"method\", sort=None),\n",
        "    alt.X(\"AUC\"),\n",
        "    color=alt.Color(\"Method\", scale=alt.Scale(domain=(\"SAR\", \"Other\"), range=[\"orange\", \"lightblue\"]))\n",
        ")"
      ],
      "metadata": {
        "colab": {
          "base_uri": "https://localhost:8080/",
          "height": 402
        },
        "id": "X0QRDnw2rXsX",
        "outputId": "1b328279-513c-476e-ba5f-55f048cd5b53"
      },
      "execution_count": 7,
      "outputs": [
        {
          "output_type": "stream",
          "name": "stderr",
          "text": [
            "/usr/local/lib/python3.10/dist-packages/altair/utils/core.py:384: FutureWarning: the convert_dtype parameter is deprecated and will be removed in a future version.  Do ``ser.astype(object).apply()`` instead if you want ``convert_dtype=False``.\n",
            "  col = df[col_name].apply(to_list_if_array, convert_dtype=False)\n",
            "/usr/local/lib/python3.10/dist-packages/altair/utils/core.py:384: FutureWarning: the convert_dtype parameter is deprecated and will be removed in a future version.  Do ``ser.astype(object).apply()`` instead if you want ``convert_dtype=False``.\n",
            "  col = df[col_name].apply(to_list_if_array, convert_dtype=False)\n",
            "/usr/local/lib/python3.10/dist-packages/altair/utils/core.py:384: FutureWarning: the convert_dtype parameter is deprecated and will be removed in a future version.  Do ``ser.astype(object).apply()`` instead if you want ``convert_dtype=False``.\n",
            "  col = df[col_name].apply(to_list_if_array, convert_dtype=False)\n"
          ]
        },
        {
          "output_type": "execute_result",
          "data": {
            "text/html": [
              "\n",
              "<div id=\"altair-viz-427c4b7f84294b27a624d1e910f99ed0\"></div>\n",
              "<script type=\"text/javascript\">\n",
              "  var VEGA_DEBUG = (typeof VEGA_DEBUG == \"undefined\") ? {} : VEGA_DEBUG;\n",
              "  (function(spec, embedOpt){\n",
              "    let outputDiv = document.currentScript.previousElementSibling;\n",
              "    if (outputDiv.id !== \"altair-viz-427c4b7f84294b27a624d1e910f99ed0\") {\n",
              "      outputDiv = document.getElementById(\"altair-viz-427c4b7f84294b27a624d1e910f99ed0\");\n",
              "    }\n",
              "    const paths = {\n",
              "      \"vega\": \"https://cdn.jsdelivr.net/npm//vega@5?noext\",\n",
              "      \"vega-lib\": \"https://cdn.jsdelivr.net/npm//vega-lib?noext\",\n",
              "      \"vega-lite\": \"https://cdn.jsdelivr.net/npm//vega-lite@4.17.0?noext\",\n",
              "      \"vega-embed\": \"https://cdn.jsdelivr.net/npm//vega-embed@6?noext\",\n",
              "    };\n",
              "\n",
              "    function maybeLoadScript(lib, version) {\n",
              "      var key = `${lib.replace(\"-\", \"\")}_version`;\n",
              "      return (VEGA_DEBUG[key] == version) ?\n",
              "        Promise.resolve(paths[lib]) :\n",
              "        new Promise(function(resolve, reject) {\n",
              "          var s = document.createElement('script');\n",
              "          document.getElementsByTagName(\"head\")[0].appendChild(s);\n",
              "          s.async = true;\n",
              "          s.onload = () => {\n",
              "            VEGA_DEBUG[key] = version;\n",
              "            return resolve(paths[lib]);\n",
              "          };\n",
              "          s.onerror = () => reject(`Error loading script: ${paths[lib]}`);\n",
              "          s.src = paths[lib];\n",
              "        });\n",
              "    }\n",
              "\n",
              "    function showError(err) {\n",
              "      outputDiv.innerHTML = `<div class=\"error\" style=\"color:red;\">${err}</div>`;\n",
              "      throw err;\n",
              "    }\n",
              "\n",
              "    function displayChart(vegaEmbed) {\n",
              "      vegaEmbed(outputDiv, spec, embedOpt)\n",
              "        .catch(err => showError(`Javascript Error: ${err.message}<br>This usually means there's a typo in your chart specification. See the javascript console for the full traceback.`));\n",
              "    }\n",
              "\n",
              "    if(typeof define === \"function\" && define.amd) {\n",
              "      requirejs.config({paths});\n",
              "      require([\"vega-embed\"], displayChart, err => showError(`Error loading script: ${err.message}`));\n",
              "    } else {\n",
              "      maybeLoadScript(\"vega\", \"5\")\n",
              "        .then(() => maybeLoadScript(\"vega-lite\", \"4.17.0\"))\n",
              "        .then(() => maybeLoadScript(\"vega-embed\", \"6\"))\n",
              "        .catch(showError)\n",
              "        .then(() => displayChart(vegaEmbed));\n",
              "    }\n",
              "  })({\"config\": {\"view\": {\"continuousWidth\": 400, \"continuousHeight\": 300}}, \"data\": {\"name\": \"data-0c20765688659300c8a78ad4fcfd0fd6\"}, \"mark\": \"bar\", \"encoding\": {\"color\": {\"field\": \"Method\", \"scale\": {\"domain\": [\"SAR\", \"Other\"], \"range\": [\"orange\", \"lightblue\"]}, \"type\": \"nominal\"}, \"column\": {\"field\": \"type\", \"type\": \"nominal\"}, \"x\": {\"field\": \"AUC\", \"type\": \"quantitative\"}, \"y\": {\"field\": \"method\", \"sort\": null, \"type\": \"nominal\"}}, \"title\": \"Phi2 results on PubMedQA\", \"$schema\": \"https://vega.github.io/schema/vega-lite/v4.17.0.json\", \"datasets\": {\"data-0c20765688659300c8a78ad4fcfd0fd6\": [{\"accuracy\": 0.02, \"method\": \"sar\", \"type\": \"rougeL_to_target\", \"threshold\": 0.5, \"AUC\": 0.8571, \"Method\": \"SAR\"}, {\"accuracy\": 0.6, \"method\": \"sar\", \"type\": \"sentsim\", \"threshold\": 0.5, \"AUC\": 0.7583, \"Method\": \"SAR\"}, {\"accuracy\": 0.02, \"method\": \"sentence-sar\", \"type\": \"rougeL_to_target\", \"threshold\": 0.5, \"AUC\": 0.8163, \"Method\": \"SAR\"}, {\"accuracy\": 0.6, \"method\": \"sentence-sar\", \"type\": \"sentsim\", \"threshold\": 0.5, \"AUC\": 0.7333, \"Method\": \"SAR\"}, {\"accuracy\": 0.02, \"method\": \"token-sar\", \"type\": \"rougeL_to_target\", \"threshold\": 0.5, \"AUC\": 0.5, \"Method\": \"SAR\"}, {\"accuracy\": 0.6, \"method\": \"token-sar\", \"type\": \"sentsim\", \"threshold\": 0.5, \"AUC\": 0.5, \"Method\": \"SAR\"}, {\"accuracy\": 0.02, \"method\": \"semantic-entropy\", \"type\": \"rougeL_to_target\", \"threshold\": 0.5, \"AUC\": 0.5, \"Method\": \"Other\"}, {\"accuracy\": 0.6, \"method\": \"semantic-entropy\", \"type\": \"sentsim\", \"threshold\": 0.5, \"AUC\": 0.5, \"Method\": \"Other\"}, {\"accuracy\": 0.02, \"method\": \"len-normed-predictive-entropy\", \"type\": \"rougeL_to_target\", \"threshold\": 0.5, \"AUC\": 0.5, \"Method\": \"Other\"}, {\"accuracy\": 0.6, \"method\": \"len-normed-predictive-entropy\", \"type\": \"sentsim\", \"threshold\": 0.5, \"AUC\": 0.5, \"Method\": \"Other\"}, {\"accuracy\": 0.02, \"method\": \"predictive-entropy\", \"type\": \"rougeL_to_target\", \"threshold\": 0.5, \"AUC\": 0.5, \"Method\": \"Other\"}, {\"accuracy\": 0.6, \"method\": \"predictive-entropy\", \"type\": \"sentsim\", \"threshold\": 0.5, \"AUC\": 0.5, \"Method\": \"Other\"}, {\"accuracy\": 0.02, \"method\": \"lexical-similarity\", \"type\": \"rougeL_to_target\", \"threshold\": 0.5, \"AUC\": 0.0918, \"Method\": \"Other\"}, {\"accuracy\": 0.6, \"method\": \"lexical-similarity\", \"type\": \"sentsim\", \"threshold\": 0.5, \"AUC\": 0.2858, \"Method\": \"Other\"}]}}, {\"mode\": \"vega-lite\"});\n",
              "</script>"
            ],
            "text/plain": [
              "alt.Chart(...)"
            ]
          },
          "metadata": {},
          "execution_count": 7
        }
      ]
    }
  ]
}